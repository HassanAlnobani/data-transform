{
 "cells": [
  {
   "cell_type": "code",
   "execution_count": 1,
   "id": "28c237e4",
   "metadata": {},
   "outputs": [],
   "source": [
    "import json"
   ]
  },
  {
   "cell_type": "code",
   "execution_count": 2,
   "id": "934a6b96",
   "metadata": {},
   "outputs": [],
   "source": [
    "with open('task.json', 'r', encoding='utf-8') as file:\n",
    "    data = json.load(file)"
   ]
  },
  {
   "cell_type": "code",
   "execution_count": 4,
   "id": "e7d30991",
   "metadata": {},
   "outputs": [],
   "source": [
    "# Extract words and labels from the annotation result\n",
    "result = data[0]['annotations'][0]['result']\n",
    "words = []\n",
    "labels = []"
   ]
  },
  {
   "cell_type": "code",
   "execution_count": 5,
   "id": "9702511d",
   "metadata": {},
   "outputs": [],
   "source": [
    "# Iterate through each labeled entity in the result\n",
    "for item in result:\n",
    "    start = item['value']['start']\n",
    "    end = item['value']['end']\n",
    "    word = data[0]['data']['description'][start:end]\n",
    "    label = item['value']['labels'][0]\n",
    "\n",
    "    words.append(word)\n",
    "    labels.append(label)\n",
    "\n",
    "# Combine words and labels into a dictionary\n",
    "output = {\"words\": words, \"labels\": labels}"
   ]
  },
  {
   "cell_type": "code",
   "execution_count": 6,
   "id": "c4453ce8",
   "metadata": {},
   "outputs": [
    {
     "name": "stdout",
     "output_type": "stream",
     "text": [
      "{'words': ['Virtusa', 'Virtusa', 'Virtusa is one of the fastest growing IT Services companies in the Middle East with a growing client base in the UAE, KSA, Qatar &amp; Oman and we work with the leading Banking and Financial Services, Travel, Telecom and Enterprises firms in the region. We have partnered with our clients to win awards from Gartner, IDC, WfMC and other analyst for the work that we have delivered to our clients in the region.', 'Virtusa', 'Teamwork, quality of life, professional and personal development: values that Virtusa is proud to embody. When you join us, you join a team of 30,000+ people globally that cares about your growth — one that seeks to provide you with exciting projects, opportunities and work with state of the art technologies throughout your career with us.', 'Dot Net Developer', 'Angular', 'DotNet', '5+ Years', 'Full Stack Technical Lead (.NET Core, Angular/React)', 'Design and build IT solutions which are scalable, resilient and sustainable to address business requirements.', 'Assist to develop the UI / UX as per the business needs.', '.NET Core', 'Angular', 'React', 'UI', 'UX', 'UML', 'Prepare', 'Review High Level and Low-Level Design artefacts, ensure adherence to QRIT Software Governance Integration (SGI) standards.', 'Responsible for development and unit testing for complex. modules in case of bespoke development and root cause analysis of reported incidents', 'Understanding project requirements and developing detailed structure. Implementing best practices and coding standards', 'Leading the project team in terms of providing technical guidance, help design etc..', 'Perform code reviews.', 'Contribute to and review Documentation of Functional Specifications, Interface Specifications and Non-Functional Requirements, Performance and Load testing specs.'], 'labels': ['Company Name', 'Company Name', 'About Company', 'Company Name', 'About Company', 'Job Title', 'Skill', 'Skill', 'Experience', 'Duty', 'Duty', 'Duty', 'Skill', 'Skill', 'Skill', 'Skill', 'Skill', 'Skill', 'Skill', 'Duty', 'Duty', 'Duty', 'Duty', 'Duty', 'Duty']}\n"
     ]
    }
   ],
   "source": [
    "# Print the output\n",
    "print(output)"
   ]
  },
  {
   "cell_type": "code",
   "execution_count": null,
   "id": "1f542ccf",
   "metadata": {},
   "outputs": [],
   "source": []
  }
 ],
 "metadata": {
  "kernelspec": {
   "display_name": "Python 3 (ipykernel)",
   "language": "python",
   "name": "python3"
  },
  "language_info": {
   "codemirror_mode": {
    "name": "ipython",
    "version": 3
   },
   "file_extension": ".py",
   "mimetype": "text/x-python",
   "name": "python",
   "nbconvert_exporter": "python",
   "pygments_lexer": "ipython3",
   "version": "3.11.5"
  }
 },
 "nbformat": 4,
 "nbformat_minor": 5
}
